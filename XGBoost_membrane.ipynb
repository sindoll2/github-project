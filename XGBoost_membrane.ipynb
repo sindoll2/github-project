{
  "nbformat": 4,
  "nbformat_minor": 0,
  "metadata": {
    "colab": {
      "provenance": [],
      "collapsed_sections": [],
      "authorship_tag": "ABX9TyNH/NHI0WmsKPtCdyHNw+U5",
      "include_colab_link": true
    },
    "kernelspec": {
      "name": "python3",
      "display_name": "Python 3"
    },
    "language_info": {
      "name": "python"
    }
  },
  "cells": [
    {
      "cell_type": "markdown",
      "metadata": {
        "id": "view-in-github",
        "colab_type": "text"
      },
      "source": [
        "<a href=\"https://colab.research.google.com/github/sindoll2/github-project/blob/main/XGBoost_membrane.ipynb\" target=\"_parent\"><img src=\"https://colab.research.google.com/assets/colab-badge.svg\" alt=\"Open In Colab\"/></a>"
      ]
    },
    {
      "cell_type": "code",
      "execution_count": null,
      "metadata": {
        "colab": {
          "base_uri": "https://localhost:8080/",
          "height": 77
        },
        "id": "SJ4Jw7hOSP3b",
        "outputId": "01d1801b-38c6-4977-8011-c0896271e8c5"
      },
      "outputs": [
        {
          "output_type": "display_data",
          "data": {
            "text/plain": [
              "<IPython.core.display.HTML object>"
            ],
            "text/html": [
              "\n",
              "     <input type=\"file\" id=\"files-83b40732-5269-4752-a978-c5f392bdbfcc\" name=\"files[]\" multiple disabled\n",
              "        style=\"border:none\" />\n",
              "     <output id=\"result-83b40732-5269-4752-a978-c5f392bdbfcc\">\n",
              "      Upload widget is only available when the cell has been executed in the\n",
              "      current browser session. Please rerun this cell to enable.\n",
              "      </output>\n",
              "      <script>// Copyright 2017 Google LLC\n",
              "//\n",
              "// Licensed under the Apache License, Version 2.0 (the \"License\");\n",
              "// you may not use this file except in compliance with the License.\n",
              "// You may obtain a copy of the License at\n",
              "//\n",
              "//      http://www.apache.org/licenses/LICENSE-2.0\n",
              "//\n",
              "// Unless required by applicable law or agreed to in writing, software\n",
              "// distributed under the License is distributed on an \"AS IS\" BASIS,\n",
              "// WITHOUT WARRANTIES OR CONDITIONS OF ANY KIND, either express or implied.\n",
              "// See the License for the specific language governing permissions and\n",
              "// limitations under the License.\n",
              "\n",
              "/**\n",
              " * @fileoverview Helpers for google.colab Python module.\n",
              " */\n",
              "(function(scope) {\n",
              "function span(text, styleAttributes = {}) {\n",
              "  const element = document.createElement('span');\n",
              "  element.textContent = text;\n",
              "  for (const key of Object.keys(styleAttributes)) {\n",
              "    element.style[key] = styleAttributes[key];\n",
              "  }\n",
              "  return element;\n",
              "}\n",
              "\n",
              "// Max number of bytes which will be uploaded at a time.\n",
              "const MAX_PAYLOAD_SIZE = 100 * 1024;\n",
              "\n",
              "function _uploadFiles(inputId, outputId) {\n",
              "  const steps = uploadFilesStep(inputId, outputId);\n",
              "  const outputElement = document.getElementById(outputId);\n",
              "  // Cache steps on the outputElement to make it available for the next call\n",
              "  // to uploadFilesContinue from Python.\n",
              "  outputElement.steps = steps;\n",
              "\n",
              "  return _uploadFilesContinue(outputId);\n",
              "}\n",
              "\n",
              "// This is roughly an async generator (not supported in the browser yet),\n",
              "// where there are multiple asynchronous steps and the Python side is going\n",
              "// to poll for completion of each step.\n",
              "// This uses a Promise to block the python side on completion of each step,\n",
              "// then passes the result of the previous step as the input to the next step.\n",
              "function _uploadFilesContinue(outputId) {\n",
              "  const outputElement = document.getElementById(outputId);\n",
              "  const steps = outputElement.steps;\n",
              "\n",
              "  const next = steps.next(outputElement.lastPromiseValue);\n",
              "  return Promise.resolve(next.value.promise).then((value) => {\n",
              "    // Cache the last promise value to make it available to the next\n",
              "    // step of the generator.\n",
              "    outputElement.lastPromiseValue = value;\n",
              "    return next.value.response;\n",
              "  });\n",
              "}\n",
              "\n",
              "/**\n",
              " * Generator function which is called between each async step of the upload\n",
              " * process.\n",
              " * @param {string} inputId Element ID of the input file picker element.\n",
              " * @param {string} outputId Element ID of the output display.\n",
              " * @return {!Iterable<!Object>} Iterable of next steps.\n",
              " */\n",
              "function* uploadFilesStep(inputId, outputId) {\n",
              "  const inputElement = document.getElementById(inputId);\n",
              "  inputElement.disabled = false;\n",
              "\n",
              "  const outputElement = document.getElementById(outputId);\n",
              "  outputElement.innerHTML = '';\n",
              "\n",
              "  const pickedPromise = new Promise((resolve) => {\n",
              "    inputElement.addEventListener('change', (e) => {\n",
              "      resolve(e.target.files);\n",
              "    });\n",
              "  });\n",
              "\n",
              "  const cancel = document.createElement('button');\n",
              "  inputElement.parentElement.appendChild(cancel);\n",
              "  cancel.textContent = 'Cancel upload';\n",
              "  const cancelPromise = new Promise((resolve) => {\n",
              "    cancel.onclick = () => {\n",
              "      resolve(null);\n",
              "    };\n",
              "  });\n",
              "\n",
              "  // Wait for the user to pick the files.\n",
              "  const files = yield {\n",
              "    promise: Promise.race([pickedPromise, cancelPromise]),\n",
              "    response: {\n",
              "      action: 'starting',\n",
              "    }\n",
              "  };\n",
              "\n",
              "  cancel.remove();\n",
              "\n",
              "  // Disable the input element since further picks are not allowed.\n",
              "  inputElement.disabled = true;\n",
              "\n",
              "  if (!files) {\n",
              "    return {\n",
              "      response: {\n",
              "        action: 'complete',\n",
              "      }\n",
              "    };\n",
              "  }\n",
              "\n",
              "  for (const file of files) {\n",
              "    const li = document.createElement('li');\n",
              "    li.append(span(file.name, {fontWeight: 'bold'}));\n",
              "    li.append(span(\n",
              "        `(${file.type || 'n/a'}) - ${file.size} bytes, ` +\n",
              "        `last modified: ${\n",
              "            file.lastModifiedDate ? file.lastModifiedDate.toLocaleDateString() :\n",
              "                                    'n/a'} - `));\n",
              "    const percent = span('0% done');\n",
              "    li.appendChild(percent);\n",
              "\n",
              "    outputElement.appendChild(li);\n",
              "\n",
              "    const fileDataPromise = new Promise((resolve) => {\n",
              "      const reader = new FileReader();\n",
              "      reader.onload = (e) => {\n",
              "        resolve(e.target.result);\n",
              "      };\n",
              "      reader.readAsArrayBuffer(file);\n",
              "    });\n",
              "    // Wait for the data to be ready.\n",
              "    let fileData = yield {\n",
              "      promise: fileDataPromise,\n",
              "      response: {\n",
              "        action: 'continue',\n",
              "      }\n",
              "    };\n",
              "\n",
              "    // Use a chunked sending to avoid message size limits. See b/62115660.\n",
              "    let position = 0;\n",
              "    do {\n",
              "      const length = Math.min(fileData.byteLength - position, MAX_PAYLOAD_SIZE);\n",
              "      const chunk = new Uint8Array(fileData, position, length);\n",
              "      position += length;\n",
              "\n",
              "      const base64 = btoa(String.fromCharCode.apply(null, chunk));\n",
              "      yield {\n",
              "        response: {\n",
              "          action: 'append',\n",
              "          file: file.name,\n",
              "          data: base64,\n",
              "        },\n",
              "      };\n",
              "\n",
              "      let percentDone = fileData.byteLength === 0 ?\n",
              "          100 :\n",
              "          Math.round((position / fileData.byteLength) * 100);\n",
              "      percent.textContent = `${percentDone}% done`;\n",
              "\n",
              "    } while (position < fileData.byteLength);\n",
              "  }\n",
              "\n",
              "  // All done.\n",
              "  yield {\n",
              "    response: {\n",
              "      action: 'complete',\n",
              "    }\n",
              "  };\n",
              "}\n",
              "\n",
              "scope.google = scope.google || {};\n",
              "scope.google.colab = scope.google.colab || {};\n",
              "scope.google.colab._files = {\n",
              "  _uploadFiles,\n",
              "  _uploadFilesContinue,\n",
              "};\n",
              "})(self);\n",
              "</script> "
            ]
          },
          "metadata": {}
        },
        {
          "output_type": "stream",
          "name": "stdout",
          "text": [
            "Saving membranedt.csv to membranedt.csv\n"
          ]
        }
      ],
      "source": [
        "from google.colab import files\n",
        "myfile = files.upload()"
      ]
    },
    {
      "cell_type": "code",
      "source": [
        "%reload_ext autoreload\n",
        "%autoreload 2\n",
        "%matplotlib inline\n",
        "\n",
        "import torch\n",
        "import xgboost as xgb\n",
        "from xgboost import XGBClassifier, XGBRegressor\n",
        "from xgboost import plot_importance, plot_tree\n",
        "\n",
        "\n",
        "\n",
        "from matplotlib import rcParams, pyplot as plt\n",
        "import numpy as np\n",
        "import pandas as pd\n",
        "from pathlib import Path\n",
        "from scipy.sparse import hstack\n",
        "import seaborn as sns\n",
        "from sklearn.metrics import r2_score, mean_squared_error, mean_absolute_error, mean_absolute_percentage_error \n",
        "from sklearn.model_selection import train_test_split\n",
        "from sklearn.linear_model import LinearRegression\n",
        "from warnings import simplefilter\n",
        "\n",
        "rcParams['figure.figsize'] = (16, 8)\n",
        "plt.style.use('fivethirtyeight')\n",
        "simplefilter('ignore')"
      ],
      "metadata": {
        "id": "KsWtvWRuSect"
      },
      "execution_count": null,
      "outputs": []
    },
    {
      "cell_type": "code",
      "source": [
        "df = pd.read_csv('membranedt.csv', encoding='cp949')\n",
        "\n",
        "target_col = 'Membrane Flux \\n(LMH)'\n",
        "seed = 42\n",
        "print(df.shape)\n",
        "df.head()"
      ],
      "metadata": {
        "colab": {
          "base_uri": "https://localhost:8080/",
          "height": 439
        },
        "id": "1V3swisJS3me",
        "outputId": "b00a9216-c2f5-4a4a-978b-07df57f0ff18"
      },
      "execution_count": null,
      "outputs": [
        {
          "output_type": "stream",
          "name": "stdout",
          "text": [
            "(692, 21)\n"
          ]
        },
        {
          "output_type": "execute_result",
          "data": {
            "text/plain": [
              "         Author  Year Membrane AL Type Manufacture Membrane Direction  \\\n",
              "0  Arena et al.  2015              TFC       Oasys              AL-FS   \n",
              "1  Arena et al.  2015              TFC       Oasys              AL-FS   \n",
              "2  Arena et al.  2015              TFC       Oasys              AL-FS   \n",
              "3  Arena et al.  2015              TFC       Oasys              AL-DS   \n",
              "4  Arena et al.  2015              TFC       Oasys              AL-DS   \n",
              "\n",
              "  Flow Orientation\\n(counter / cocurrent) Feed Solution (FS)  FS Molarity (M)  \\\n",
              "0                                 counter                 DI              0.0   \n",
              "1                                 counter                 DI              0.0   \n",
              "2                                 counter                 DI              0.0   \n",
              "3                                 counter                 DI              0.0   \n",
              "4                                 counter                 DI              0.0   \n",
              "\n",
              "   FS Osmotic pressure\\n(atm) Draw Solution (DS)  ...  \\\n",
              "0                         0.0               NaCl  ...   \n",
              "1                         0.0               NaCl  ...   \n",
              "2                         0.0               NaCl  ...   \n",
              "3                         0.0               NaCl  ...   \n",
              "4                         0.0               NaCl  ...   \n",
              "\n",
              "   DS Osmotic pressure\\n(atm)  P Difference\\n(atm)  FS Velocity (cm/s)  \\\n",
              "0                       67.11                67.11                25.0   \n",
              "1                       44.74                44.74                25.0   \n",
              "2                       22.37                22.37                25.0   \n",
              "3                       67.11                67.11                25.0   \n",
              "4                       44.74                44.74                25.0   \n",
              "\n",
              "   DS Velocity (cm/s)  FS Temperature\\n(°C)  DS Temperature (°C)  \\\n",
              "0                25.0                  20.0                 20.0   \n",
              "1                25.0                  20.0                 20.0   \n",
              "2                25.0                  20.0                 20.0   \n",
              "3                25.0                  20.0                 20.0   \n",
              "4                25.0                  20.0                 20.0   \n",
              "\n",
              "   Membrane Flux \\n(LMH)  Reverse Salt Flux\\n(mol/m2 hr)  A\\n(LMH/atm)  \\\n",
              "0                  23.84                            0.11          0.36   \n",
              "1                  20.00                            0.06          0.45   \n",
              "2                  14.52                            0.04          0.65   \n",
              "3                  51.74                            0.28          0.77   \n",
              "4                  43.20                            0.21          0.97   \n",
              "\n",
              "   B\\n(LMH)  \n",
              "0      0.07  \n",
              "1      0.06  \n",
              "2      0.09  \n",
              "3      0.19  \n",
              "4      0.21  \n",
              "\n",
              "[5 rows x 21 columns]"
            ],
            "text/html": [
              "\n",
              "  <div id=\"df-b2047850-fead-4052-8fa9-af504e782d54\">\n",
              "    <div class=\"colab-df-container\">\n",
              "      <div>\n",
              "<style scoped>\n",
              "    .dataframe tbody tr th:only-of-type {\n",
              "        vertical-align: middle;\n",
              "    }\n",
              "\n",
              "    .dataframe tbody tr th {\n",
              "        vertical-align: top;\n",
              "    }\n",
              "\n",
              "    .dataframe thead th {\n",
              "        text-align: right;\n",
              "    }\n",
              "</style>\n",
              "<table border=\"1\" class=\"dataframe\">\n",
              "  <thead>\n",
              "    <tr style=\"text-align: right;\">\n",
              "      <th></th>\n",
              "      <th>Author</th>\n",
              "      <th>Year</th>\n",
              "      <th>Membrane AL Type</th>\n",
              "      <th>Manufacture</th>\n",
              "      <th>Membrane Direction</th>\n",
              "      <th>Flow Orientation\\n(counter / cocurrent)</th>\n",
              "      <th>Feed Solution (FS)</th>\n",
              "      <th>FS Molarity (M)</th>\n",
              "      <th>FS Osmotic pressure\\n(atm)</th>\n",
              "      <th>Draw Solution (DS)</th>\n",
              "      <th>...</th>\n",
              "      <th>DS Osmotic pressure\\n(atm)</th>\n",
              "      <th>P Difference\\n(atm)</th>\n",
              "      <th>FS Velocity (cm/s)</th>\n",
              "      <th>DS Velocity (cm/s)</th>\n",
              "      <th>FS Temperature\\n(°C)</th>\n",
              "      <th>DS Temperature (°C)</th>\n",
              "      <th>Membrane Flux \\n(LMH)</th>\n",
              "      <th>Reverse Salt Flux\\n(mol/m2 hr)</th>\n",
              "      <th>A\\n(LMH/atm)</th>\n",
              "      <th>B\\n(LMH)</th>\n",
              "    </tr>\n",
              "  </thead>\n",
              "  <tbody>\n",
              "    <tr>\n",
              "      <th>0</th>\n",
              "      <td>Arena et al.</td>\n",
              "      <td>2015</td>\n",
              "      <td>TFC</td>\n",
              "      <td>Oasys</td>\n",
              "      <td>AL-FS</td>\n",
              "      <td>counter</td>\n",
              "      <td>DI</td>\n",
              "      <td>0.0</td>\n",
              "      <td>0.0</td>\n",
              "      <td>NaCl</td>\n",
              "      <td>...</td>\n",
              "      <td>67.11</td>\n",
              "      <td>67.11</td>\n",
              "      <td>25.0</td>\n",
              "      <td>25.0</td>\n",
              "      <td>20.0</td>\n",
              "      <td>20.0</td>\n",
              "      <td>23.84</td>\n",
              "      <td>0.11</td>\n",
              "      <td>0.36</td>\n",
              "      <td>0.07</td>\n",
              "    </tr>\n",
              "    <tr>\n",
              "      <th>1</th>\n",
              "      <td>Arena et al.</td>\n",
              "      <td>2015</td>\n",
              "      <td>TFC</td>\n",
              "      <td>Oasys</td>\n",
              "      <td>AL-FS</td>\n",
              "      <td>counter</td>\n",
              "      <td>DI</td>\n",
              "      <td>0.0</td>\n",
              "      <td>0.0</td>\n",
              "      <td>NaCl</td>\n",
              "      <td>...</td>\n",
              "      <td>44.74</td>\n",
              "      <td>44.74</td>\n",
              "      <td>25.0</td>\n",
              "      <td>25.0</td>\n",
              "      <td>20.0</td>\n",
              "      <td>20.0</td>\n",
              "      <td>20.00</td>\n",
              "      <td>0.06</td>\n",
              "      <td>0.45</td>\n",
              "      <td>0.06</td>\n",
              "    </tr>\n",
              "    <tr>\n",
              "      <th>2</th>\n",
              "      <td>Arena et al.</td>\n",
              "      <td>2015</td>\n",
              "      <td>TFC</td>\n",
              "      <td>Oasys</td>\n",
              "      <td>AL-FS</td>\n",
              "      <td>counter</td>\n",
              "      <td>DI</td>\n",
              "      <td>0.0</td>\n",
              "      <td>0.0</td>\n",
              "      <td>NaCl</td>\n",
              "      <td>...</td>\n",
              "      <td>22.37</td>\n",
              "      <td>22.37</td>\n",
              "      <td>25.0</td>\n",
              "      <td>25.0</td>\n",
              "      <td>20.0</td>\n",
              "      <td>20.0</td>\n",
              "      <td>14.52</td>\n",
              "      <td>0.04</td>\n",
              "      <td>0.65</td>\n",
              "      <td>0.09</td>\n",
              "    </tr>\n",
              "    <tr>\n",
              "      <th>3</th>\n",
              "      <td>Arena et al.</td>\n",
              "      <td>2015</td>\n",
              "      <td>TFC</td>\n",
              "      <td>Oasys</td>\n",
              "      <td>AL-DS</td>\n",
              "      <td>counter</td>\n",
              "      <td>DI</td>\n",
              "      <td>0.0</td>\n",
              "      <td>0.0</td>\n",
              "      <td>NaCl</td>\n",
              "      <td>...</td>\n",
              "      <td>67.11</td>\n",
              "      <td>67.11</td>\n",
              "      <td>25.0</td>\n",
              "      <td>25.0</td>\n",
              "      <td>20.0</td>\n",
              "      <td>20.0</td>\n",
              "      <td>51.74</td>\n",
              "      <td>0.28</td>\n",
              "      <td>0.77</td>\n",
              "      <td>0.19</td>\n",
              "    </tr>\n",
              "    <tr>\n",
              "      <th>4</th>\n",
              "      <td>Arena et al.</td>\n",
              "      <td>2015</td>\n",
              "      <td>TFC</td>\n",
              "      <td>Oasys</td>\n",
              "      <td>AL-DS</td>\n",
              "      <td>counter</td>\n",
              "      <td>DI</td>\n",
              "      <td>0.0</td>\n",
              "      <td>0.0</td>\n",
              "      <td>NaCl</td>\n",
              "      <td>...</td>\n",
              "      <td>44.74</td>\n",
              "      <td>44.74</td>\n",
              "      <td>25.0</td>\n",
              "      <td>25.0</td>\n",
              "      <td>20.0</td>\n",
              "      <td>20.0</td>\n",
              "      <td>43.20</td>\n",
              "      <td>0.21</td>\n",
              "      <td>0.97</td>\n",
              "      <td>0.21</td>\n",
              "    </tr>\n",
              "  </tbody>\n",
              "</table>\n",
              "<p>5 rows × 21 columns</p>\n",
              "</div>\n",
              "      <button class=\"colab-df-convert\" onclick=\"convertToInteractive('df-b2047850-fead-4052-8fa9-af504e782d54')\"\n",
              "              title=\"Convert this dataframe to an interactive table.\"\n",
              "              style=\"display:none;\">\n",
              "        \n",
              "  <svg xmlns=\"http://www.w3.org/2000/svg\" height=\"24px\"viewBox=\"0 0 24 24\"\n",
              "       width=\"24px\">\n",
              "    <path d=\"M0 0h24v24H0V0z\" fill=\"none\"/>\n",
              "    <path d=\"M18.56 5.44l.94 2.06.94-2.06 2.06-.94-2.06-.94-.94-2.06-.94 2.06-2.06.94zm-11 1L8.5 8.5l.94-2.06 2.06-.94-2.06-.94L8.5 2.5l-.94 2.06-2.06.94zm10 10l.94 2.06.94-2.06 2.06-.94-2.06-.94-.94-2.06-.94 2.06-2.06.94z\"/><path d=\"M17.41 7.96l-1.37-1.37c-.4-.4-.92-.59-1.43-.59-.52 0-1.04.2-1.43.59L10.3 9.45l-7.72 7.72c-.78.78-.78 2.05 0 2.83L4 21.41c.39.39.9.59 1.41.59.51 0 1.02-.2 1.41-.59l7.78-7.78 2.81-2.81c.8-.78.8-2.07 0-2.86zM5.41 20L4 18.59l7.72-7.72 1.47 1.35L5.41 20z\"/>\n",
              "  </svg>\n",
              "      </button>\n",
              "      \n",
              "  <style>\n",
              "    .colab-df-container {\n",
              "      display:flex;\n",
              "      flex-wrap:wrap;\n",
              "      gap: 12px;\n",
              "    }\n",
              "\n",
              "    .colab-df-convert {\n",
              "      background-color: #E8F0FE;\n",
              "      border: none;\n",
              "      border-radius: 50%;\n",
              "      cursor: pointer;\n",
              "      display: none;\n",
              "      fill: #1967D2;\n",
              "      height: 32px;\n",
              "      padding: 0 0 0 0;\n",
              "      width: 32px;\n",
              "    }\n",
              "\n",
              "    .colab-df-convert:hover {\n",
              "      background-color: #E2EBFA;\n",
              "      box-shadow: 0px 1px 2px rgba(60, 64, 67, 0.3), 0px 1px 3px 1px rgba(60, 64, 67, 0.15);\n",
              "      fill: #174EA6;\n",
              "    }\n",
              "\n",
              "    [theme=dark] .colab-df-convert {\n",
              "      background-color: #3B4455;\n",
              "      fill: #D2E3FC;\n",
              "    }\n",
              "\n",
              "    [theme=dark] .colab-df-convert:hover {\n",
              "      background-color: #434B5C;\n",
              "      box-shadow: 0px 1px 3px 1px rgba(0, 0, 0, 0.15);\n",
              "      filter: drop-shadow(0px 1px 2px rgba(0, 0, 0, 0.3));\n",
              "      fill: #FFFFFF;\n",
              "    }\n",
              "  </style>\n",
              "\n",
              "      <script>\n",
              "        const buttonEl =\n",
              "          document.querySelector('#df-b2047850-fead-4052-8fa9-af504e782d54 button.colab-df-convert');\n",
              "        buttonEl.style.display =\n",
              "          google.colab.kernel.accessAllowed ? 'block' : 'none';\n",
              "\n",
              "        async function convertToInteractive(key) {\n",
              "          const element = document.querySelector('#df-b2047850-fead-4052-8fa9-af504e782d54');\n",
              "          const dataTable =\n",
              "            await google.colab.kernel.invokeFunction('convertToInteractive',\n",
              "                                                     [key], {});\n",
              "          if (!dataTable) return;\n",
              "\n",
              "          const docLinkHtml = 'Like what you see? Visit the ' +\n",
              "            '<a target=\"_blank\" href=https://colab.research.google.com/notebooks/data_table.ipynb>data table notebook</a>'\n",
              "            + ' to learn more about interactive tables.';\n",
              "          element.innerHTML = '';\n",
              "          dataTable['output_type'] = 'display_data';\n",
              "          await google.colab.output.renderOutput(dataTable, element);\n",
              "          const docLink = document.createElement('div');\n",
              "          docLink.innerHTML = docLinkHtml;\n",
              "          element.appendChild(docLink);\n",
              "        }\n",
              "      </script>\n",
              "    </div>\n",
              "  </div>\n",
              "  "
            ]
          },
          "metadata": {},
          "execution_count": 4
        }
      ]
    },
    {
      "cell_type": "code",
      "source": [
        "df.info()"
      ],
      "metadata": {
        "colab": {
          "base_uri": "https://localhost:8080/"
        },
        "id": "esY1rLaGPIXc",
        "outputId": "13b67a1e-018d-472c-bab1-a302666d8543"
      },
      "execution_count": null,
      "outputs": [
        {
          "output_type": "stream",
          "name": "stdout",
          "text": [
            "<class 'pandas.core.frame.DataFrame'>\n",
            "RangeIndex: 692 entries, 0 to 691\n",
            "Data columns (total 21 columns):\n",
            " #   Column                                  Non-Null Count  Dtype  \n",
            "---  ------                                  --------------  -----  \n",
            " 0   Author                                  692 non-null    object \n",
            " 1   Year                                    692 non-null    int64  \n",
            " 2   Membrane AL Type                        692 non-null    object \n",
            " 3   Manufacture                             692 non-null    object \n",
            " 4   Membrane Direction                      692 non-null    object \n",
            " 5   Flow Orientation\n",
            "(counter / cocurrent)  692 non-null    object \n",
            " 6   Feed Solution (FS)                      692 non-null    object \n",
            " 7   FS Molarity (M)                         692 non-null    float64\n",
            " 8   FS Osmotic pressure\n",
            "(atm)               692 non-null    float64\n",
            " 9   Draw Solution (DS)                      692 non-null    object \n",
            " 10  DS Molarity (M)                         692 non-null    float64\n",
            " 11  DS Osmotic pressure\n",
            "(atm)               692 non-null    float64\n",
            " 12  P Difference\n",
            "(atm)                      692 non-null    float64\n",
            " 13  FS Velocity (cm/s)                      664 non-null    float64\n",
            " 14  DS Velocity (cm/s)                      664 non-null    float64\n",
            " 15  FS Temperature\n",
            "(°C)                     692 non-null    float64\n",
            " 16  DS Temperature (°C)                     692 non-null    float64\n",
            " 17  Membrane Flux \n",
            "(LMH)                    692 non-null    float64\n",
            " 18  Reverse Salt Flux\n",
            "(mol/m2 hr)           318 non-null    float64\n",
            " 19  A\n",
            "(LMH/atm)                             692 non-null    float64\n",
            " 20  B\n",
            "(LMH)                                 315 non-null    float64\n",
            "dtypes: float64(13), int64(1), object(7)\n",
            "memory usage: 113.7+ KB\n"
          ]
        }
      ]
    },
    {
      "cell_type": "code",
      "source": [
        "df['FS Velocity (cm/s)'].fillna(df['FS Velocity (cm/s)'].mean(), inplace=True)\n",
        "df['DS Velocity (cm/s)'].fillna(df['DS Velocity (cm/s)'].mean(), inplace=True)\n",
        "df = df.drop(df.columns[[18,20]], axis=1)\n",
        "\n",
        "df.info()"
      ],
      "metadata": {
        "colab": {
          "base_uri": "https://localhost:8080/"
        },
        "id": "f9JyuNeuS6c1",
        "outputId": "34f75f2e-e6f2-4c05-df5a-603fa4300c8a"
      },
      "execution_count": null,
      "outputs": [
        {
          "output_type": "stream",
          "name": "stdout",
          "text": [
            "<class 'pandas.core.frame.DataFrame'>\n",
            "RangeIndex: 692 entries, 0 to 691\n",
            "Data columns (total 19 columns):\n",
            " #   Column                                  Non-Null Count  Dtype  \n",
            "---  ------                                  --------------  -----  \n",
            " 0   Author                                  692 non-null    object \n",
            " 1   Year                                    692 non-null    int64  \n",
            " 2   Membrane AL Type                        692 non-null    object \n",
            " 3   Manufacture                             692 non-null    object \n",
            " 4   Membrane Direction                      692 non-null    object \n",
            " 5   Flow Orientation\n",
            "(counter / cocurrent)  692 non-null    object \n",
            " 6   Feed Solution (FS)                      692 non-null    object \n",
            " 7   FS Molarity (M)                         692 non-null    float64\n",
            " 8   FS Osmotic pressure\n",
            "(atm)               692 non-null    float64\n",
            " 9   Draw Solution (DS)                      692 non-null    object \n",
            " 10  DS Molarity (M)                         692 non-null    float64\n",
            " 11  DS Osmotic pressure\n",
            "(atm)               692 non-null    float64\n",
            " 12  P Difference\n",
            "(atm)                      692 non-null    float64\n",
            " 13  FS Velocity (cm/s)                      692 non-null    float64\n",
            " 14  DS Velocity (cm/s)                      692 non-null    float64\n",
            " 15  FS Temperature\n",
            "(°C)                     692 non-null    float64\n",
            " 16  DS Temperature (°C)                     692 non-null    float64\n",
            " 17  Membrane Flux \n",
            "(LMH)                    692 non-null    float64\n",
            " 18  A\n",
            "(LMH/atm)                             692 non-null    float64\n",
            "dtypes: float64(11), int64(1), object(7)\n",
            "memory usage: 102.8+ KB\n"
          ]
        }
      ]
    },
    {
      "cell_type": "code",
      "source": [
        "num_cols = [x for x in df.columns if df[x].dtype in [np.int64, np.float64]and x != target_col] \n",
        "cat_cols = ['Author', 'Membrane AL Type', 'Manufacture', 'Membrane Direction','Flow Orientation\\n(counter / cocurrent)','Feed Solution (FS)','Draw Solution (DS)']\n",
        "print(f'    numeric ({len(num_cols)}):\\t{num_cols}')\n",
        "print(f'categorical ({len(cat_cols)}):\\t{cat_cols}')"
      ],
      "metadata": {
        "colab": {
          "base_uri": "https://localhost:8080/"
        },
        "id": "WQ2uuOBzS6fG",
        "outputId": "6e76f950-12d0-4c32-d2d0-fd1f07c7235b"
      },
      "execution_count": null,
      "outputs": [
        {
          "output_type": "stream",
          "name": "stdout",
          "text": [
            "    numeric (11):\t['Year', 'FS Molarity (M)', 'FS Osmotic pressure\\n(atm)', 'DS Molarity (M)', 'DS Osmotic pressure\\n(atm)', 'P Difference\\n(atm)', 'FS Velocity (cm/s)', 'DS Velocity (cm/s)', 'FS Temperature\\n(°C)', 'DS Temperature (°C)', 'A\\n(LMH/atm)']\n",
            "categorical (7):\t['Author', 'Membrane AL Type', 'Manufacture', 'Membrane Direction', 'Flow Orientation\\n(counter / cocurrent)', 'Feed Solution (FS)', 'Draw Solution (DS)']\n"
          ]
        }
      ]
    },
    {
      "cell_type": "code",
      "source": [
        "df[['Year', 'FS Molarity (M)', 'FS Osmotic pressure\\n(atm)', 'DS Molarity (M)', 'DS Osmotic pressure\\n(atm)', 'P Difference\\n(atm)', 'FS Velocity (cm/s)', 'DS Velocity (cm/s)', 'FS Temperature\\n(°C)', 'DS Temperature (°C)', 'Membrane Flux \\n(LMH)', 'A\\n(LMH/atm)']] = df[['Year', 'FS Molarity (M)', 'FS Osmotic pressure\\n(atm)', 'DS Molarity (M)', 'DS Osmotic pressure\\n(atm)', 'P Difference\\n(atm)', 'FS Velocity (cm/s)', 'DS Velocity (cm/s)', 'FS Temperature\\n(°C)', 'DS Temperature (°C)', 'Membrane Flux \\n(LMH)', 'A\\n(LMH/atm)']].apply(np.log1p)\n",
        "df[num_cols].describe()"
      ],
      "metadata": {
        "colab": {
          "base_uri": "https://localhost:8080/",
          "height": 361
        },
        "id": "AALZaGq1TGJE",
        "outputId": "45a15531-ae26-4a58-956c-95b4f32f83f9"
      },
      "execution_count": null,
      "outputs": [
        {
          "output_type": "execute_result",
          "data": {
            "text/plain": [
              "             Year  FS Molarity (M)  FS Osmotic pressure\\n(atm)  \\\n",
              "count  692.000000       692.000000                  692.000000   \n",
              "mean     7.608503         0.069615                    0.620534   \n",
              "std      0.001500         0.168848                    1.064909   \n",
              "min      7.604396         0.000000                    0.000000   \n",
              "25%      7.607381         0.000000                    0.000000   \n",
              "50%      7.608871         0.000000                    0.000000   \n",
              "75%      7.609367         0.086178                    1.578979   \n",
              "max      7.610853         0.891998                    4.065087   \n",
              "\n",
              "       DS Molarity (M)  DS Osmotic pressure\\n(atm)  P Difference\\n(atm)  \\\n",
              "count       692.000000                  692.000000           692.000000   \n",
              "mean          0.761949                    3.808628             3.744326   \n",
              "std           0.424737                    0.836119             0.842011   \n",
              "min           0.048790                    1.175573             0.862890   \n",
              "25%           0.405465                    3.157851             3.151453   \n",
              "50%           0.693147                    3.822973             3.773335   \n",
              "75%           1.098612                    4.505129             4.411889   \n",
              "max           1.871802                    5.641588             5.641588   \n",
              "\n",
              "       FS Velocity (cm/s)  DS Velocity (cm/s)  FS Temperature\\n(°C)  \\\n",
              "count          692.000000          692.000000            692.000000   \n",
              "mean             2.395000            2.383771              3.233744   \n",
              "std              0.943711            0.947628              0.195388   \n",
              "min              0.350657            0.350657              3.044522   \n",
              "25%              2.251292            2.251292              3.044522   \n",
              "50%              2.646175            2.646175              3.258097   \n",
              "75%              3.109061            3.109061              3.258097   \n",
              "max              3.931826            3.931826              3.934958   \n",
              "\n",
              "       DS Temperature (°C)  A\\n(LMH/atm)  \n",
              "count           692.000000    692.000000  \n",
              "mean              3.248136      0.346776  \n",
              "std               0.192903      0.277207  \n",
              "min               3.043570      0.039221  \n",
              "25%               3.044522      0.139762  \n",
              "50%               3.258097      0.231112  \n",
              "75%               3.258097      0.506818  \n",
              "max               3.934958      1.358409  "
            ],
            "text/html": [
              "\n",
              "  <div id=\"df-d73a58d7-35e5-4cdf-90cc-5fdc19d255c3\">\n",
              "    <div class=\"colab-df-container\">\n",
              "      <div>\n",
              "<style scoped>\n",
              "    .dataframe tbody tr th:only-of-type {\n",
              "        vertical-align: middle;\n",
              "    }\n",
              "\n",
              "    .dataframe tbody tr th {\n",
              "        vertical-align: top;\n",
              "    }\n",
              "\n",
              "    .dataframe thead th {\n",
              "        text-align: right;\n",
              "    }\n",
              "</style>\n",
              "<table border=\"1\" class=\"dataframe\">\n",
              "  <thead>\n",
              "    <tr style=\"text-align: right;\">\n",
              "      <th></th>\n",
              "      <th>Year</th>\n",
              "      <th>FS Molarity (M)</th>\n",
              "      <th>FS Osmotic pressure\\n(atm)</th>\n",
              "      <th>DS Molarity (M)</th>\n",
              "      <th>DS Osmotic pressure\\n(atm)</th>\n",
              "      <th>P Difference\\n(atm)</th>\n",
              "      <th>FS Velocity (cm/s)</th>\n",
              "      <th>DS Velocity (cm/s)</th>\n",
              "      <th>FS Temperature\\n(°C)</th>\n",
              "      <th>DS Temperature (°C)</th>\n",
              "      <th>A\\n(LMH/atm)</th>\n",
              "    </tr>\n",
              "  </thead>\n",
              "  <tbody>\n",
              "    <tr>\n",
              "      <th>count</th>\n",
              "      <td>692.000000</td>\n",
              "      <td>692.000000</td>\n",
              "      <td>692.000000</td>\n",
              "      <td>692.000000</td>\n",
              "      <td>692.000000</td>\n",
              "      <td>692.000000</td>\n",
              "      <td>692.000000</td>\n",
              "      <td>692.000000</td>\n",
              "      <td>692.000000</td>\n",
              "      <td>692.000000</td>\n",
              "      <td>692.000000</td>\n",
              "    </tr>\n",
              "    <tr>\n",
              "      <th>mean</th>\n",
              "      <td>7.608503</td>\n",
              "      <td>0.069615</td>\n",
              "      <td>0.620534</td>\n",
              "      <td>0.761949</td>\n",
              "      <td>3.808628</td>\n",
              "      <td>3.744326</td>\n",
              "      <td>2.395000</td>\n",
              "      <td>2.383771</td>\n",
              "      <td>3.233744</td>\n",
              "      <td>3.248136</td>\n",
              "      <td>0.346776</td>\n",
              "    </tr>\n",
              "    <tr>\n",
              "      <th>std</th>\n",
              "      <td>0.001500</td>\n",
              "      <td>0.168848</td>\n",
              "      <td>1.064909</td>\n",
              "      <td>0.424737</td>\n",
              "      <td>0.836119</td>\n",
              "      <td>0.842011</td>\n",
              "      <td>0.943711</td>\n",
              "      <td>0.947628</td>\n",
              "      <td>0.195388</td>\n",
              "      <td>0.192903</td>\n",
              "      <td>0.277207</td>\n",
              "    </tr>\n",
              "    <tr>\n",
              "      <th>min</th>\n",
              "      <td>7.604396</td>\n",
              "      <td>0.000000</td>\n",
              "      <td>0.000000</td>\n",
              "      <td>0.048790</td>\n",
              "      <td>1.175573</td>\n",
              "      <td>0.862890</td>\n",
              "      <td>0.350657</td>\n",
              "      <td>0.350657</td>\n",
              "      <td>3.044522</td>\n",
              "      <td>3.043570</td>\n",
              "      <td>0.039221</td>\n",
              "    </tr>\n",
              "    <tr>\n",
              "      <th>25%</th>\n",
              "      <td>7.607381</td>\n",
              "      <td>0.000000</td>\n",
              "      <td>0.000000</td>\n",
              "      <td>0.405465</td>\n",
              "      <td>3.157851</td>\n",
              "      <td>3.151453</td>\n",
              "      <td>2.251292</td>\n",
              "      <td>2.251292</td>\n",
              "      <td>3.044522</td>\n",
              "      <td>3.044522</td>\n",
              "      <td>0.139762</td>\n",
              "    </tr>\n",
              "    <tr>\n",
              "      <th>50%</th>\n",
              "      <td>7.608871</td>\n",
              "      <td>0.000000</td>\n",
              "      <td>0.000000</td>\n",
              "      <td>0.693147</td>\n",
              "      <td>3.822973</td>\n",
              "      <td>3.773335</td>\n",
              "      <td>2.646175</td>\n",
              "      <td>2.646175</td>\n",
              "      <td>3.258097</td>\n",
              "      <td>3.258097</td>\n",
              "      <td>0.231112</td>\n",
              "    </tr>\n",
              "    <tr>\n",
              "      <th>75%</th>\n",
              "      <td>7.609367</td>\n",
              "      <td>0.086178</td>\n",
              "      <td>1.578979</td>\n",
              "      <td>1.098612</td>\n",
              "      <td>4.505129</td>\n",
              "      <td>4.411889</td>\n",
              "      <td>3.109061</td>\n",
              "      <td>3.109061</td>\n",
              "      <td>3.258097</td>\n",
              "      <td>3.258097</td>\n",
              "      <td>0.506818</td>\n",
              "    </tr>\n",
              "    <tr>\n",
              "      <th>max</th>\n",
              "      <td>7.610853</td>\n",
              "      <td>0.891998</td>\n",
              "      <td>4.065087</td>\n",
              "      <td>1.871802</td>\n",
              "      <td>5.641588</td>\n",
              "      <td>5.641588</td>\n",
              "      <td>3.931826</td>\n",
              "      <td>3.931826</td>\n",
              "      <td>3.934958</td>\n",
              "      <td>3.934958</td>\n",
              "      <td>1.358409</td>\n",
              "    </tr>\n",
              "  </tbody>\n",
              "</table>\n",
              "</div>\n",
              "      <button class=\"colab-df-convert\" onclick=\"convertToInteractive('df-d73a58d7-35e5-4cdf-90cc-5fdc19d255c3')\"\n",
              "              title=\"Convert this dataframe to an interactive table.\"\n",
              "              style=\"display:none;\">\n",
              "        \n",
              "  <svg xmlns=\"http://www.w3.org/2000/svg\" height=\"24px\"viewBox=\"0 0 24 24\"\n",
              "       width=\"24px\">\n",
              "    <path d=\"M0 0h24v24H0V0z\" fill=\"none\"/>\n",
              "    <path d=\"M18.56 5.44l.94 2.06.94-2.06 2.06-.94-2.06-.94-.94-2.06-.94 2.06-2.06.94zm-11 1L8.5 8.5l.94-2.06 2.06-.94-2.06-.94L8.5 2.5l-.94 2.06-2.06.94zm10 10l.94 2.06.94-2.06 2.06-.94-2.06-.94-.94-2.06-.94 2.06-2.06.94z\"/><path d=\"M17.41 7.96l-1.37-1.37c-.4-.4-.92-.59-1.43-.59-.52 0-1.04.2-1.43.59L10.3 9.45l-7.72 7.72c-.78.78-.78 2.05 0 2.83L4 21.41c.39.39.9.59 1.41.59.51 0 1.02-.2 1.41-.59l7.78-7.78 2.81-2.81c.8-.78.8-2.07 0-2.86zM5.41 20L4 18.59l7.72-7.72 1.47 1.35L5.41 20z\"/>\n",
              "  </svg>\n",
              "      </button>\n",
              "      \n",
              "  <style>\n",
              "    .colab-df-container {\n",
              "      display:flex;\n",
              "      flex-wrap:wrap;\n",
              "      gap: 12px;\n",
              "    }\n",
              "\n",
              "    .colab-df-convert {\n",
              "      background-color: #E8F0FE;\n",
              "      border: none;\n",
              "      border-radius: 50%;\n",
              "      cursor: pointer;\n",
              "      display: none;\n",
              "      fill: #1967D2;\n",
              "      height: 32px;\n",
              "      padding: 0 0 0 0;\n",
              "      width: 32px;\n",
              "    }\n",
              "\n",
              "    .colab-df-convert:hover {\n",
              "      background-color: #E2EBFA;\n",
              "      box-shadow: 0px 1px 2px rgba(60, 64, 67, 0.3), 0px 1px 3px 1px rgba(60, 64, 67, 0.15);\n",
              "      fill: #174EA6;\n",
              "    }\n",
              "\n",
              "    [theme=dark] .colab-df-convert {\n",
              "      background-color: #3B4455;\n",
              "      fill: #D2E3FC;\n",
              "    }\n",
              "\n",
              "    [theme=dark] .colab-df-convert:hover {\n",
              "      background-color: #434B5C;\n",
              "      box-shadow: 0px 1px 3px 1px rgba(0, 0, 0, 0.15);\n",
              "      filter: drop-shadow(0px 1px 2px rgba(0, 0, 0, 0.3));\n",
              "      fill: #FFFFFF;\n",
              "    }\n",
              "  </style>\n",
              "\n",
              "      <script>\n",
              "        const buttonEl =\n",
              "          document.querySelector('#df-d73a58d7-35e5-4cdf-90cc-5fdc19d255c3 button.colab-df-convert');\n",
              "        buttonEl.style.display =\n",
              "          google.colab.kernel.accessAllowed ? 'block' : 'none';\n",
              "\n",
              "        async function convertToInteractive(key) {\n",
              "          const element = document.querySelector('#df-d73a58d7-35e5-4cdf-90cc-5fdc19d255c3');\n",
              "          const dataTable =\n",
              "            await google.colab.kernel.invokeFunction('convertToInteractive',\n",
              "                                                     [key], {});\n",
              "          if (!dataTable) return;\n",
              "\n",
              "          const docLinkHtml = 'Like what you see? Visit the ' +\n",
              "            '<a target=\"_blank\" href=https://colab.research.google.com/notebooks/data_table.ipynb>data table notebook</a>'\n",
              "            + ' to learn more about interactive tables.';\n",
              "          element.innerHTML = '';\n",
              "          dataTable['output_type'] = 'display_data';\n",
              "          await google.colab.output.renderOutput(dataTable, element);\n",
              "          const docLink = document.createElement('div');\n",
              "          docLink.innerHTML = docLinkHtml;\n",
              "          element.appendChild(docLink);\n",
              "        }\n",
              "      </script>\n",
              "    </div>\n",
              "  </div>\n",
              "  "
            ]
          },
          "metadata": {},
          "execution_count": 7
        }
      ]
    },
    {
      "cell_type": "code",
      "source": [
        "features = num_cols + cat_cols\n",
        "\n",
        "print(df.columns)"
      ],
      "metadata": {
        "colab": {
          "base_uri": "https://localhost:8080/"
        },
        "id": "Ntgj0fbbTF_9",
        "outputId": "8f346a68-f0d8-4b57-9a41-0b3c2962d57f"
      },
      "execution_count": null,
      "outputs": [
        {
          "output_type": "stream",
          "name": "stdout",
          "text": [
            "Index(['Author', 'Year', 'Membrane AL Type', 'Manufacture',\n",
            "       'Membrane Direction', 'Flow Orientation\\n(counter / cocurrent)',\n",
            "       'Feed Solution (FS)', 'FS Molarity (M)', 'FS Osmotic pressure\\n(atm)',\n",
            "       'Draw Solution (DS)', 'DS Molarity (M)', 'DS Osmotic pressure\\n(atm)',\n",
            "       'P Difference\\n(atm)', 'FS Velocity (cm/s)', 'DS Velocity (cm/s)',\n",
            "       'FS Temperature\\n(°C)', 'DS Temperature (°C)', 'Membrane Flux \\n(LMH)',\n",
            "       'A\\n(LMH/atm)'],\n",
            "      dtype='object')\n"
          ]
        }
      ]
    },
    {
      "cell_type": "code",
      "source": [
        "from sklearn.preprocessing import OneHotEncoder\n",
        "ohe = OneHotEncoder()\n",
        "X = hstack((df[num_cols],\n",
        "            ohe.fit_transform(df[cat_cols])))\n",
        "print(X.shape)"
      ],
      "metadata": {
        "colab": {
          "base_uri": "https://localhost:8080/"
        },
        "id": "_vBE_na0TQYt",
        "outputId": "cdbc3fe2-ba94-416b-c159-983f48fe4971"
      },
      "execution_count": null,
      "outputs": [
        {
          "output_type": "stream",
          "name": "stdout",
          "text": [
            "(692, 91)\n"
          ]
        }
      ]
    },
    {
      "cell_type": "code",
      "source": [
        "from sklearn.preprocessing import StandardScaler\n",
        "\n",
        "X_trn, X_tst, y_trn, y_tst = train_test_split(X, df[target_col], test_size=0.2, random_state=seed)\n",
        "clf = XGBRegressor(random_state=seed, n_estimators=1000)\n",
        "clf.fit(X_trn, np.log1p(y_trn))\n",
        "p = np.expm1(clf.predict(X_tst))\n",
        "\n",
        "\n",
        "\n",
        "if('Membrane Flux (LMH)' in df.keys()):\n",
        "    print(df['Membrane Flux (LMH)'])\n",
        "else:\n",
        "    print('Membrane Flux (LMH) not found')\n",
        "\n",
        "print('r2_score :', r2_score(y_tst, p))\n",
        "print('MAE :', mean_absolute_error(y_tst, p))\n",
        "print('MSE :', mean_squared_error(y_tst, p))\n",
        "print('RMSE : ', mean_squared_error(y_tst, p, squared = False))\n",
        "print('MAPE :', mean_absolute_percentage_error(y_tst, p))\n",
        "\n",
        "#print(f\"테스트 세트점수 {clf.score(X_tst, y_tst)}\")"
      ],
      "metadata": {
        "colab": {
          "base_uri": "https://localhost:8080/"
        },
        "id": "hG3aSpA7TTgl",
        "outputId": "138e4dc2-beba-4871-ff60-a9c7115a6324"
      },
      "execution_count": null,
      "outputs": [
        {
          "output_type": "stream",
          "name": "stdout",
          "text": [
            "[08:26:42] WARNING: /workspace/src/objective/regression_obj.cu:152: reg:linear is now deprecated in favor of reg:squarederror.\n",
            "Membrane Flux (LMH) not found\n",
            "r2_score : 0.9821150024679361\n",
            "MAE : 0.0586072094409323\n",
            "MSE : 0.00921594612647575\n",
            "RMSE :  0.0959997194083178\n",
            "MAPE : 0.025987304071878305\n"
          ]
        }
      ]
    },
    {
      "cell_type": "code",
      "source": [
        "from sklearn.model_selection import KFold\n",
        "from sklearn.model_selection import cross_val_score\n",
        "\n",
        "KFold = KFold(n_splits=5, shuffle=True, random_state=seed)\n",
        "results = cross_val_score(clf, X, df[target_col], cv=KFold)\n",
        "\n",
        "print('result :', results)\n",
        "print('result mean :', results.mean())"
      ],
      "metadata": {
        "colab": {
          "base_uri": "https://localhost:8080/"
        },
        "id": "xYzP5kikTtct",
        "outputId": "5331aadf-a401-44ef-801f-7864e0ee49b6"
      },
      "execution_count": null,
      "outputs": [
        {
          "output_type": "stream",
          "name": "stdout",
          "text": [
            "[08:35:29] WARNING: /workspace/src/objective/regression_obj.cu:152: reg:linear is now deprecated in favor of reg:squarederror.\n",
            "[08:35:30] WARNING: /workspace/src/objective/regression_obj.cu:152: reg:linear is now deprecated in favor of reg:squarederror.\n",
            "[08:35:30] WARNING: /workspace/src/objective/regression_obj.cu:152: reg:linear is now deprecated in favor of reg:squarederror.\n",
            "[08:35:31] WARNING: /workspace/src/objective/regression_obj.cu:152: reg:linear is now deprecated in favor of reg:squarederror.\n",
            "[08:35:32] WARNING: /workspace/src/objective/regression_obj.cu:152: reg:linear is now deprecated in favor of reg:squarederror.\n",
            "result : [0.98011733 0.98803831 0.98053891 0.98882157 0.98434961]\n",
            "result mean : 0.9843731450228829\n"
          ]
        }
      ]
    },
    {
      "cell_type": "code",
      "source": [
        "plt.scatter(p, y_tst, s=50)\n",
        "plt.xlabel(\"predicted\")\n",
        "plt.ylabel(\"actual\")\n",
        "x = np.arange(1,5)\n",
        "y = x \n",
        "plt.plot(x,y, 'r')\n",
        "plt.show()"
      ],
      "metadata": {
        "id": "17ZbYIQ5oZp6",
        "outputId": "fc9c4ac0-599b-4d8a-f828-acb7ebf051c4",
        "colab": {
          "base_uri": "https://localhost:8080/",
          "height": 537
        }
      },
      "execution_count": null,
      "outputs": [
        {
          "output_type": "display_data",
          "data": {
            "text/plain": [
              "<Figure size 1152x576 with 1 Axes>"
            ],
            "image/png": "[encoded data removed]"
          },
          "metadata": {}
        }
      ]
    },
    {
      "cell_type": "code",
      "source": [
        "xgb.plot_tree(clf, num_trees=3)"
      ],
      "metadata": {
        "colab": {
          "base_uri": "https://localhost:8080/",
          "height": 325
        },
        "id": "JSgVN2XcHS7K",
        "outputId": "296aad91-cf8d-4cfe-8cc6-e4582b6bb661"
      },
      "execution_count": null,
      "outputs": [
        {
          "output_type": "execute_result",
          "data": {
            "text/plain": [
              "<matplotlib.axes._subplots.AxesSubplot at 0x7fdb404edd10>"
            ]
          },
          "metadata": {},
          "execution_count": 37
        },
        {
          "output_type": "display_data",
          "data": {
            "text/plain": [
              "<Figure size 1152x576 with 1 Axes>"
            ],
            "image/png": "[encoded data removed]"
          },
          "metadata": {}
        }
      ]
    },
    {
      "cell_type": "code",
      "source": [
        "xgb.to_graphviz(clf, num_trees=3)"
      ],
      "metadata": {
        "colab": {
          "base_uri": "https://localhost:8080/",
          "height": 427
        },
        "id": "E7VoatYKHo-5",
        "outputId": "f41fe001-c913-4c12-b1e3-afd2f5b793f0"
      },
      "execution_count": null,
      "outputs": [
        {
          "output_type": "execute_result",
          "data": {
            "text/plain": [
              "<graphviz.dot.Digraph at 0x7f09f3f78650>"
            ],
            "image/svg+xml": "<?xml version=\"1.0\" encoding=\"UTF-8\" standalone=\"no\"?>\n<!DOCTYPE svg PUBLIC \"-//W3C//DTD SVG 1.1//EN\"\n \"http://www.w3.org/Graphics/SVG/1.1/DTD/svg11.dtd\">\n<!-- Generated by graphviz version 2.40.1 (20161225.0304)\n -->\n<!-- Title: %3 Pages: 1 -->\n<svg width=\"1110pt\" height=\"305pt\"\n viewBox=\"0.00 0.00 1109.74 305.00\" xmlns=\"http://www.w3.org/2000/svg\" xmlns:xlink=\"http://www.w3.org/1999/xlink\">\n<g id=\"graph0\" class=\"graph\" transform=\"scale(1 1) rotate(0) translate(4 301)\">\n<title>%3</title>\n<polygon fill=\"#ffffff\" stroke=\"transparent\" points=\"-4,4 -4,-301 1105.7353,-301 1105.7353,4 -4,4\"/>\n<!-- 0 -->\n<g id=\"node1\" class=\"node\">\n<title>0</title>\n<ellipse fill=\"none\" stroke=\"#000000\" cx=\"673.1424\" cy=\"-279\" rx=\"79.0865\" ry=\"18\"/>\n<text text-anchor=\"middle\" x=\"673.1424\" y=\"-275.3\" font-family=\"Times,serif\" font-size=\"14.00\" fill=\"#000000\">f10&lt;0.473118901</text>\n</g>\n<!-- 1 -->\n<g id=\"node2\" class=\"node\">\n<title>1</title>\n<ellipse fill=\"none\" stroke=\"#000000\" cx=\"579.1424\" cy=\"-192\" rx=\"70.3881\" ry=\"18\"/>\n<text text-anchor=\"middle\" x=\"579.1424\" y=\"-188.3\" font-family=\"Times,serif\" font-size=\"14.00\" fill=\"#000000\">f5&lt;3.82602453</text>\n</g>\n<!-- 0&#45;&gt;1 -->\n<g id=\"edge1\" class=\"edge\">\n<title>0&#45;&gt;1</title>\n<path fill=\"none\" stroke=\"#0000ff\" d=\"M654.1201,-261.3943C640.2324,-248.5407 621.2205,-230.9446 605.8166,-216.6878\"/>\n<polygon fill=\"#0000ff\" stroke=\"#0000ff\" points=\"607.8529,-213.8034 598.1365,-209.5796 603.0981,-218.9408 607.8529,-213.8034\"/>\n<text text-anchor=\"middle\" x=\"667.6424\" y=\"-231.8\" font-family=\"Times,serif\" font-size=\"14.00\" fill=\"#000000\">yes, missing</text>\n</g>\n<!-- 2 -->\n<g id=\"node3\" class=\"node\">\n<title>2</title>\n<ellipse fill=\"none\" stroke=\"#000000\" cx=\"837.1424\" cy=\"-192\" rx=\"69.5877\" ry=\"18\"/>\n<text text-anchor=\"middle\" x=\"837.1424\" y=\"-188.3\" font-family=\"Times,serif\" font-size=\"14.00\" fill=\"#000000\">f5&lt;3.07672119</text>\n</g>\n<!-- 0&#45;&gt;2 -->\n<g id=\"edge2\" class=\"edge\">\n<title>0&#45;&gt;2</title>\n<path fill=\"none\" stroke=\"#ff0000\" d=\"M704.3756,-262.4312C730.8754,-248.3734 769.0371,-228.129 797.6524,-212.949\"/>\n<polygon fill=\"#ff0000\" stroke=\"#ff0000\" points=\"799.387,-215.9909 806.5807,-208.2126 796.1065,-209.8071 799.387,-215.9909\"/>\n<text text-anchor=\"middle\" x=\"773.1424\" y=\"-231.8\" font-family=\"Times,serif\" font-size=\"14.00\" fill=\"#000000\">no</text>\n</g>\n<!-- 3 -->\n<g id=\"node4\" class=\"node\">\n<title>3</title>\n<ellipse fill=\"none\" stroke=\"#000000\" cx=\"273.1424\" cy=\"-105\" rx=\"79.8859\" ry=\"18\"/>\n<text text-anchor=\"middle\" x=\"273.1424\" y=\"-101.3\" font-family=\"Times,serif\" font-size=\"14.00\" fill=\"#000000\">f10&lt;0.186470956</text>\n</g>\n<!-- 1&#45;&gt;3 -->\n<g id=\"edge3\" class=\"edge\">\n<title>1&#45;&gt;3</title>\n<path fill=\"none\" stroke=\"#0000ff\" d=\"M532.0006,-178.5969C478.4346,-163.3674 390.9142,-138.4841 332.679,-121.9271\"/>\n<polygon fill=\"#0000ff\" stroke=\"#0000ff\" points=\"333.4544,-118.5089 322.8784,-119.1406 331.54,-125.242 333.4544,-118.5089\"/>\n<text text-anchor=\"middle\" x=\"480.6424\" y=\"-144.8\" font-family=\"Times,serif\" font-size=\"14.00\" fill=\"#000000\">yes, missing</text>\n</g>\n<!-- 4 -->\n<g id=\"node5\" class=\"node\">\n<title>4</title>\n<ellipse fill=\"none\" stroke=\"#000000\" cx=\"579.1424\" cy=\"-105\" rx=\"85.2851\" ry=\"18\"/>\n<text text-anchor=\"middle\" x=\"579.1424\" y=\"-101.3\" font-family=\"Times,serif\" font-size=\"14.00\" fill=\"#000000\">f10&lt;0.0535295382</text>\n</g>\n<!-- 1&#45;&gt;4 -->\n<g id=\"edge4\" class=\"edge\">\n<title>1&#45;&gt;4</title>\n<path fill=\"none\" stroke=\"#ff0000\" d=\"M579.1424,-173.9735C579.1424,-162.1918 579.1424,-146.5607 579.1424,-133.1581\"/>\n<polygon fill=\"#ff0000\" stroke=\"#ff0000\" points=\"582.6425,-133.0033 579.1424,-123.0034 575.6425,-133.0034 582.6425,-133.0033\"/>\n<text text-anchor=\"middle\" x=\"587.1424\" y=\"-144.8\" font-family=\"Times,serif\" font-size=\"14.00\" fill=\"#000000\">no</text>\n</g>\n<!-- 5 -->\n<g id=\"node10\" class=\"node\">\n<title>5</title>\n<ellipse fill=\"none\" stroke=\"#000000\" cx=\"837.1424\" cy=\"-105\" rx=\"70.3881\" ry=\"18\"/>\n<text text-anchor=\"middle\" x=\"837.1424\" y=\"-101.3\" font-family=\"Times,serif\" font-size=\"14.00\" fill=\"#000000\">f4&lt;1.98084068</text>\n</g>\n<!-- 2&#45;&gt;5 -->\n<g id=\"edge9\" class=\"edge\">\n<title>2&#45;&gt;5</title>\n<path fill=\"none\" stroke=\"#0000ff\" d=\"M837.1424,-173.9735C837.1424,-162.1918 837.1424,-146.5607 837.1424,-133.1581\"/>\n<polygon fill=\"#0000ff\" stroke=\"#0000ff\" points=\"840.6425,-133.0033 837.1424,-123.0034 833.6425,-133.0034 840.6425,-133.0033\"/>\n<text text-anchor=\"middle\" x=\"872.6424\" y=\"-144.8\" font-family=\"Times,serif\" font-size=\"14.00\" fill=\"#000000\">yes, missing</text>\n</g>\n<!-- 6 -->\n<g id=\"node11\" class=\"node\">\n<title>6</title>\n<ellipse fill=\"none\" stroke=\"#000000\" cx=\"1010.1424\" cy=\"-105\" rx=\"85.2851\" ry=\"18\"/>\n<text text-anchor=\"middle\" x=\"1010.1424\" y=\"-101.3\" font-family=\"Times,serif\" font-size=\"14.00\" fill=\"#000000\">leaf=0.0737730935</text>\n</g>\n<!-- 2&#45;&gt;6 -->\n<g id=\"edge10\" class=\"edge\">\n<title>2&#45;&gt;6</title>\n<path fill=\"none\" stroke=\"#ff0000\" d=\"M870.8568,-176.1019C883.8106,-169.919 898.7076,-162.718 912.1424,-156 931.1333,-146.5038 952.0255,-135.6836 969.6233,-126.4603\"/>\n<polygon fill=\"#ff0000\" stroke=\"#ff0000\" points=\"971.273,-129.5473 978.4981,-121.7981 968.0175,-123.3503 971.273,-129.5473\"/>\n<text text-anchor=\"middle\" x=\"948.1424\" y=\"-144.8\" font-family=\"Times,serif\" font-size=\"14.00\" fill=\"#000000\">no</text>\n</g>\n<!-- 7 -->\n<g id=\"node6\" class=\"node\">\n<title>7</title>\n<ellipse fill=\"none\" stroke=\"#000000\" cx=\"85.1424\" cy=\"-18\" rx=\"85.2851\" ry=\"18\"/>\n<text text-anchor=\"middle\" x=\"85.1424\" y=\"-14.3\" font-family=\"Times,serif\" font-size=\"14.00\" fill=\"#000000\">leaf=0.0257213414</text>\n</g>\n<!-- 3&#45;&gt;7 -->\n<g id=\"edge5\" class=\"edge\">\n<title>3&#45;&gt;7</title>\n<path fill=\"none\" stroke=\"#0000ff\" d=\"M237.7811,-88.636C207.2862,-74.524 163.0826,-54.0681 130.0847,-38.7978\"/>\n<polygon fill=\"#0000ff\" stroke=\"#0000ff\" points=\"131.2096,-35.4618 120.6643,-34.4383 128.2698,-41.8145 131.2096,-35.4618\"/>\n<text text-anchor=\"middle\" x=\"226.6424\" y=\"-57.8\" font-family=\"Times,serif\" font-size=\"14.00\" fill=\"#000000\">yes, missing</text>\n</g>\n<!-- 8 -->\n<g id=\"node7\" class=\"node\">\n<title>8</title>\n<ellipse fill=\"none\" stroke=\"#000000\" cx=\"273.1424\" cy=\"-18\" rx=\"85.2851\" ry=\"18\"/>\n<text text-anchor=\"middle\" x=\"273.1424\" y=\"-14.3\" font-family=\"Times,serif\" font-size=\"14.00\" fill=\"#000000\">leaf=0.0465893969</text>\n</g>\n<!-- 3&#45;&gt;8 -->\n<g id=\"edge6\" class=\"edge\">\n<title>3&#45;&gt;8</title>\n<path fill=\"none\" stroke=\"#ff0000\" d=\"M273.1424,-86.9735C273.1424,-75.1918 273.1424,-59.5607 273.1424,-46.1581\"/>\n<polygon fill=\"#ff0000\" stroke=\"#ff0000\" points=\"276.6425,-46.0033 273.1424,-36.0034 269.6425,-46.0034 276.6425,-46.0033\"/>\n<text text-anchor=\"middle\" x=\"281.1424\" y=\"-57.8\" font-family=\"Times,serif\" font-size=\"14.00\" fill=\"#000000\">no</text>\n</g>\n<!-- 9 -->\n<g id=\"node8\" class=\"node\">\n<title>9</title>\n<ellipse fill=\"none\" stroke=\"#000000\" cx=\"461.1424\" cy=\"-18\" rx=\"85.2851\" ry=\"18\"/>\n<text text-anchor=\"middle\" x=\"461.1424\" y=\"-14.3\" font-family=\"Times,serif\" font-size=\"14.00\" fill=\"#000000\">leaf=0.0206140745</text>\n</g>\n<!-- 4&#45;&gt;9 -->\n<g id=\"edge7\" class=\"edge\">\n<title>4&#45;&gt;9</title>\n<path fill=\"none\" stroke=\"#0000ff\" d=\"M555.547,-87.6033C537.539,-74.3263 512.5482,-55.9008 492.8026,-41.3427\"/>\n<polygon fill=\"#0000ff\" stroke=\"#0000ff\" points=\"494.8229,-38.4838 484.697,-35.3665 490.6688,-44.118 494.8229,-38.4838\"/>\n<text text-anchor=\"middle\" x=\"563.6424\" y=\"-57.8\" font-family=\"Times,serif\" font-size=\"14.00\" fill=\"#000000\">yes, missing</text>\n</g>\n<!-- 10 -->\n<g id=\"node9\" class=\"node\">\n<title>10</title>\n<ellipse fill=\"none\" stroke=\"#000000\" cx=\"649.1424\" cy=\"-18\" rx=\"85.2851\" ry=\"18\"/>\n<text text-anchor=\"middle\" x=\"649.1424\" y=\"-14.3\" font-family=\"Times,serif\" font-size=\"14.00\" fill=\"#000000\">leaf=0.0607533455</text>\n</g>\n<!-- 4&#45;&gt;10 -->\n<g id=\"edge8\" class=\"edge\">\n<title>4&#45;&gt;10</title>\n<path fill=\"none\" stroke=\"#ff0000\" d=\"M593.6465,-86.9735C603.5954,-74.6085 616.9557,-58.0036 628.0743,-44.1847\"/>\n<polygon fill=\"#ff0000\" stroke=\"#ff0000\" points=\"631.1151,-45.9886 634.657,-36.0034 625.6613,-41.6005 631.1151,-45.9886\"/>\n<text text-anchor=\"middle\" x=\"627.1424\" y=\"-57.8\" font-family=\"Times,serif\" font-size=\"14.00\" fill=\"#000000\">no</text>\n</g>\n<!-- 11 -->\n<g id=\"node12\" class=\"node\">\n<title>11</title>\n<ellipse fill=\"none\" stroke=\"#000000\" cx=\"837.1424\" cy=\"-18\" rx=\"85.2851\" ry=\"18\"/>\n<text text-anchor=\"middle\" x=\"837.1424\" y=\"-14.3\" font-family=\"Times,serif\" font-size=\"14.00\" fill=\"#000000\">leaf=0.0321682207</text>\n</g>\n<!-- 5&#45;&gt;11 -->\n<g id=\"edge11\" class=\"edge\">\n<title>5&#45;&gt;11</title>\n<path fill=\"none\" stroke=\"#0000ff\" d=\"M837.1424,-86.9735C837.1424,-75.1918 837.1424,-59.5607 837.1424,-46.1581\"/>\n<polygon fill=\"#0000ff\" stroke=\"#0000ff\" points=\"840.6425,-46.0033 837.1424,-36.0034 833.6425,-46.0034 840.6425,-46.0033\"/>\n<text text-anchor=\"middle\" x=\"872.6424\" y=\"-57.8\" font-family=\"Times,serif\" font-size=\"14.00\" fill=\"#000000\">yes, missing</text>\n</g>\n<!-- 12 -->\n<g id=\"node13\" class=\"node\">\n<title>12</title>\n<ellipse fill=\"none\" stroke=\"#000000\" cx=\"1021.1424\" cy=\"-18\" rx=\"80.6858\" ry=\"18\"/>\n<text text-anchor=\"middle\" x=\"1021.1424\" y=\"-14.3\" font-family=\"Times,serif\" font-size=\"14.00\" fill=\"#000000\">leaf=0.056488242</text>\n</g>\n<!-- 5&#45;&gt;12 -->\n<g id=\"edge12\" class=\"edge\">\n<title>5&#45;&gt;12</title>\n<path fill=\"none\" stroke=\"#ff0000\" d=\"M870.8909,-89.0429C900.8244,-74.8895 944.7341,-54.1278 977.3632,-38.7\"/>\n<polygon fill=\"#ff0000\" stroke=\"#ff0000\" points=\"979.1275,-41.7373 986.6718,-34.2986 976.1353,-35.4091 979.1275,-41.7373\"/>\n<text text-anchor=\"middle\" x=\"949.1424\" y=\"-57.8\" font-family=\"Times,serif\" font-size=\"14.00\" fill=\"#000000\">no</text>\n</g>\n</g>\n</svg>\n"
          },
          "metadata": {},
          "execution_count": 30
        }
      ]
    },
    {
      "cell_type": "code",
      "source": [
        "from sklearn.model_selection import GridSearchCV\n",
        "from sklearn.metrics import accuracy_score\n",
        "\n",
        "params = { 'min_samples_split':[1,2,3],\n",
        "          'max_depth' : [1, 2, 3, 4, 5],\n",
        "          'min_samples_split' : [1, 2,3,4,5],\n",
        "          'reg_alpha' : np.arange(0, 2, 0.1),\n",
        "         'reg_lambda' : np.arange(0, 1, 0.1)\n",
        "          }\n",
        "\n",
        "gs = GridSearchCV(XGBRegressor(random_state=seed), params, n_jobs=-1)\n",
        "gs.fit(X_trn, y_trn)\n",
        "\n",
        "clf = gs.best_estimator_\n",
        "print(clf.score(X_trn, y_trn))\n",
        "print(gs.best_params_)\n",
        "#print(gs.cv_results_['mean_test_score'])"
      ],
      "metadata": {
        "id": "zhTuRBToey0G",
        "colab": {
          "base_uri": "https://localhost:8080/"
        },
        "outputId": "3afd2cb0-7d72-4342-bbc5-e32a965f5a9d"
      },
      "execution_count": null,
      "outputs": [
        {
          "output_type": "stream",
          "name": "stdout",
          "text": [
            "[08:56:13] WARNING: /workspace/src/objective/regression_obj.cu:152: reg:linear is now deprecated in favor of reg:squarederror.\n",
            "0.998218294136568\n",
            "{'max_depth': 5, 'min_samples_split': 1, 'reg_alpha': 0.1, 'reg_lambda': 0.9}\n"
          ]
        }
      ]
    },
    {
      "cell_type": "markdown",
      "source": [
        "accuracy_score는 classification 에서만 사용"
      ],
      "metadata": {
        "id": "MrMaHCUUFdph"
      }
    },
    {
      "cell_type": "code",
      "source": [
        "gs_df = pd.DataFrame(gs.cv_results_)\n",
        "gs_df.loc[:, ['mean_test_score', \"params\"]]"
      ],
      "metadata": {
        "colab": {
          "base_uri": "https://localhost:8080/",
          "height": 423
        },
        "id": "K_qwO3JDJNUB",
        "outputId": "4635c330-cf9a-43f4-bfb0-4ecff8142d2e"
      },
      "execution_count": null,
      "outputs": [
        {
          "output_type": "execute_result",
          "data": {
            "text/plain": [
              "      mean_test_score                                             params\n",
              "0            0.842403  {'max_depth': 1, 'min_samples_split': 1, 'reg_...\n",
              "1            0.842224  {'max_depth': 1, 'min_samples_split': 1, 'reg_...\n",
              "2            0.841819  {'max_depth': 1, 'min_samples_split': 1, 'reg_...\n",
              "3            0.840446  {'max_depth': 1, 'min_samples_split': 1, 'reg_...\n",
              "4            0.839636  {'max_depth': 1, 'min_samples_split': 1, 'reg_...\n",
              "...               ...                                                ...\n",
              "4995         0.950978  {'max_depth': 5, 'min_samples_split': 5, 'reg_...\n",
              "4996         0.952209  {'max_depth': 5, 'min_samples_split': 5, 'reg_...\n",
              "4997         0.951429  {'max_depth': 5, 'min_samples_split': 5, 'reg_...\n",
              "4998         0.953272  {'max_depth': 5, 'min_samples_split': 5, 'reg_...\n",
              "4999         0.953231  {'max_depth': 5, 'min_samples_split': 5, 'reg_...\n",
              "\n",
              "[5000 rows x 2 columns]"
            ],
            "text/html": [
              "\n",
              "  <div id=\"df-a497a79d-33b4-415d-af01-0f8f1f9a5d05\">\n",
              "    <div class=\"colab-df-container\">\n",
              "      <div>\n",
              "<style scoped>\n",
              "    .dataframe tbody tr th:only-of-type {\n",
              "        vertical-align: middle;\n",
              "    }\n",
              "\n",
              "    .dataframe tbody tr th {\n",
              "        vertical-align: top;\n",
              "    }\n",
              "\n",
              "    .dataframe thead th {\n",
              "        text-align: right;\n",
              "    }\n",
              "</style>\n",
              "<table border=\"1\" class=\"dataframe\">\n",
              "  <thead>\n",
              "    <tr style=\"text-align: right;\">\n",
              "      <th></th>\n",
              "      <th>mean_test_score</th>\n",
              "      <th>params</th>\n",
              "    </tr>\n",
              "  </thead>\n",
              "  <tbody>\n",
              "    <tr>\n",
              "      <th>0</th>\n",
              "      <td>0.842403</td>\n",
              "      <td>{'max_depth': 1, 'min_samples_split': 1, 'reg_...</td>\n",
              "    </tr>\n",
              "    <tr>\n",
              "      <th>1</th>\n",
              "      <td>0.842224</td>\n",
              "      <td>{'max_depth': 1, 'min_samples_split': 1, 'reg_...</td>\n",
              "    </tr>\n",
              "    <tr>\n",
              "      <th>2</th>\n",
              "      <td>0.841819</td>\n",
              "      <td>{'max_depth': 1, 'min_samples_split': 1, 'reg_...</td>\n",
              "    </tr>\n",
              "    <tr>\n",
              "      <th>3</th>\n",
              "      <td>0.840446</td>\n",
              "      <td>{'max_depth': 1, 'min_samples_split': 1, 'reg_...</td>\n",
              "    </tr>\n",
              "    <tr>\n",
              "      <th>4</th>\n",
              "      <td>0.839636</td>\n",
              "      <td>{'max_depth': 1, 'min_samples_split': 1, 'reg_...</td>\n",
              "    </tr>\n",
              "    <tr>\n",
              "      <th>...</th>\n",
              "      <td>...</td>\n",
              "      <td>...</td>\n",
              "    </tr>\n",
              "    <tr>\n",
              "      <th>4995</th>\n",
              "      <td>0.950978</td>\n",
              "      <td>{'max_depth': 5, 'min_samples_split': 5, 'reg_...</td>\n",
              "    </tr>\n",
              "    <tr>\n",
              "      <th>4996</th>\n",
              "      <td>0.952209</td>\n",
              "      <td>{'max_depth': 5, 'min_samples_split': 5, 'reg_...</td>\n",
              "    </tr>\n",
              "    <tr>\n",
              "      <th>4997</th>\n",
              "      <td>0.951429</td>\n",
              "      <td>{'max_depth': 5, 'min_samples_split': 5, 'reg_...</td>\n",
              "    </tr>\n",
              "    <tr>\n",
              "      <th>4998</th>\n",
              "      <td>0.953272</td>\n",
              "      <td>{'max_depth': 5, 'min_samples_split': 5, 'reg_...</td>\n",
              "    </tr>\n",
              "    <tr>\n",
              "      <th>4999</th>\n",
              "      <td>0.953231</td>\n",
              "      <td>{'max_depth': 5, 'min_samples_split': 5, 'reg_...</td>\n",
              "    </tr>\n",
              "  </tbody>\n",
              "</table>\n",
              "<p>5000 rows × 2 columns</p>\n",
              "</div>\n",
              "      <button class=\"colab-df-convert\" onclick=\"convertToInteractive('df-a497a79d-33b4-415d-af01-0f8f1f9a5d05')\"\n",
              "              title=\"Convert this dataframe to an interactive table.\"\n",
              "              style=\"display:none;\">\n",
              "        \n",
              "  <svg xmlns=\"http://www.w3.org/2000/svg\" height=\"24px\"viewBox=\"0 0 24 24\"\n",
              "       width=\"24px\">\n",
              "    <path d=\"M0 0h24v24H0V0z\" fill=\"none\"/>\n",
              "    <path d=\"M18.56 5.44l.94 2.06.94-2.06 2.06-.94-2.06-.94-.94-2.06-.94 2.06-2.06.94zm-11 1L8.5 8.5l.94-2.06 2.06-.94-2.06-.94L8.5 2.5l-.94 2.06-2.06.94zm10 10l.94 2.06.94-2.06 2.06-.94-2.06-.94-.94-2.06-.94 2.06-2.06.94z\"/><path d=\"M17.41 7.96l-1.37-1.37c-.4-.4-.92-.59-1.43-.59-.52 0-1.04.2-1.43.59L10.3 9.45l-7.72 7.72c-.78.78-.78 2.05 0 2.83L4 21.41c.39.39.9.59 1.41.59.51 0 1.02-.2 1.41-.59l7.78-7.78 2.81-2.81c.8-.78.8-2.07 0-2.86zM5.41 20L4 18.59l7.72-7.72 1.47 1.35L5.41 20z\"/>\n",
              "  </svg>\n",
              "      </button>\n",
              "      \n",
              "  <style>\n",
              "    .colab-df-container {\n",
              "      display:flex;\n",
              "      flex-wrap:wrap;\n",
              "      gap: 12px;\n",
              "    }\n",
              "\n",
              "    .colab-df-convert {\n",
              "      background-color: #E8F0FE;\n",
              "      border: none;\n",
              "      border-radius: 50%;\n",
              "      cursor: pointer;\n",
              "      display: none;\n",
              "      fill: #1967D2;\n",
              "      height: 32px;\n",
              "      padding: 0 0 0 0;\n",
              "      width: 32px;\n",
              "    }\n",
              "\n",
              "    .colab-df-convert:hover {\n",
              "      background-color: #E2EBFA;\n",
              "      box-shadow: 0px 1px 2px rgba(60, 64, 67, 0.3), 0px 1px 3px 1px rgba(60, 64, 67, 0.15);\n",
              "      fill: #174EA6;\n",
              "    }\n",
              "\n",
              "    [theme=dark] .colab-df-convert {\n",
              "      background-color: #3B4455;\n",
              "      fill: #D2E3FC;\n",
              "    }\n",
              "\n",
              "    [theme=dark] .colab-df-convert:hover {\n",
              "      background-color: #434B5C;\n",
              "      box-shadow: 0px 1px 3px 1px rgba(0, 0, 0, 0.15);\n",
              "      filter: drop-shadow(0px 1px 2px rgba(0, 0, 0, 0.3));\n",
              "      fill: #FFFFFF;\n",
              "    }\n",
              "  </style>\n",
              "\n",
              "      <script>\n",
              "        const buttonEl =\n",
              "          document.querySelector('#df-a497a79d-33b4-415d-af01-0f8f1f9a5d05 button.colab-df-convert');\n",
              "        buttonEl.style.display =\n",
              "          google.colab.kernel.accessAllowed ? 'block' : 'none';\n",
              "\n",
              "        async function convertToInteractive(key) {\n",
              "          const element = document.querySelector('#df-a497a79d-33b4-415d-af01-0f8f1f9a5d05');\n",
              "          const dataTable =\n",
              "            await google.colab.kernel.invokeFunction('convertToInteractive',\n",
              "                                                     [key], {});\n",
              "          if (!dataTable) return;\n",
              "\n",
              "          const docLinkHtml = 'Like what you see? Visit the ' +\n",
              "            '<a target=\"_blank\" href=https://colab.research.google.com/notebooks/data_table.ipynb>data table notebook</a>'\n",
              "            + ' to learn more about interactive tables.';\n",
              "          element.innerHTML = '';\n",
              "          dataTable['output_type'] = 'display_data';\n",
              "          await google.colab.output.renderOutput(dataTable, element);\n",
              "          const docLink = document.createElement('div');\n",
              "          docLink.innerHTML = docLinkHtml;\n",
              "          element.appendChild(docLink);\n",
              "        }\n",
              "      </script>\n",
              "    </div>\n",
              "  </div>\n",
              "  "
            ]
          },
          "metadata": {},
          "execution_count": 49
        }
      ]
    },
    {
      "cell_type": "code",
      "source": [
        "best_model = gs.best_estimator_\n",
        "best_model\n",
        "\n",
        "best_score = gs.best_score_\n",
        "print('GridSearchCV 최고 정확도 :', best_score)\n",
        "\n"
      ],
      "metadata": {
        "colab": {
          "base_uri": "https://localhost:8080/"
        },
        "id": "R8l2qNKwokpt",
        "outputId": "ebf4c06d-5756-46de-84a7-2015e1553c6d"
      },
      "execution_count": null,
      "outputs": [
        {
          "output_type": "stream",
          "name": "stdout",
          "text": [
            "GridSearchCV 최고 정확도 : 0.9720033981729372\n"
          ]
        }
      ]
    },
    {
      "cell_type": "code",
      "source": [
        "from xgboost import plot_importance\n",
        "\n",
        "\n",
        "\n",
        "fig, ax = plt.subplots(figsize=(10, 12))\n",
        "\n",
        "plot_importance(clf, ax=ax)\n",
        "\n"
      ],
      "metadata": {
        "colab": {
          "base_uri": "https://localhost:8080/",
          "height": 809
        },
        "id": "W99-5TkKT2YF",
        "outputId": "108ca3de-7941-45f5-c57e-6b50302120e1"
      },
      "execution_count": null,
      "outputs": [
        {
          "output_type": "execute_result",
          "data": {
            "text/plain": [
              "<matplotlib.axes._subplots.AxesSubplot at 0x7fdb40433f10>"
            ]
          },
          "metadata": {},
          "execution_count": 50
        },
        {
          "output_type": "display_data",
          "data": {
            "text/plain": [
              "<Figure size 720x864 with 1 Axes>"
            ],
            "image/png": "[encoded data removed]"
          },
          "metadata": {}
        }
      ]
    },
    {
      "cell_type": "code",
      "source": [
        "'"
      ],
      "metadata": {
        "colab": {
          "base_uri": "https://localhost:8080/",
          "height": 35
        },
        "id": "fDBf0DBoQ2FP",
        "outputId": "ba25f380-4abe-49aa-de19-0668d1f0c094"
      },
      "execution_count": null,
      "outputs": [
        {
          "output_type": "execute_result",
          "data": {
            "text/plain": [
              "'f10'"
            ],
            "application/vnd.google.colaboratory.intrinsic+json": {
              "type": "string"
            }
          },
          "metadata": {},
          "execution_count": 44
        }
      ]
    }
  ]
}